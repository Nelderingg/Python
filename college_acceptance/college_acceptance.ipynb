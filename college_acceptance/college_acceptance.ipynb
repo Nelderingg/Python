{
 "cells": [
  {
   "cell_type": "code",
   "execution_count": 25,
   "metadata": {},
   "outputs": [],
   "source": [
    "import tensorflow as tf\n",
    "from tensorflow\timport keras\n",
    "from tensorflow.keras.callbacks import EarlyStopping\n",
    "from tensorflow.keras import layers\n",
    "from tensorflow.keras.models import Sequential\n",
    "from tensorflow.keras.layers import Dense\n",
    "from tensorflow.keras.layers import Input\n",
    "from sklearn.metrics import mean_squared_error\n",
    "from tensorflow.keras.optimizers import Adam\n",
    "\n",
    "from sklearn.model_selection import train_test_split\n",
    "from sklearn.preprocessing import StandardScaler\n",
    "from sklearn.preprocessing import Normalizer\n",
    "from sklearn.metrics import r2_score \n",
    "\n",
    "import pandas as pd\n",
    "\n",
    "import matplotlib.pyplot as plt"
   ]
  },
  {
   "cell_type": "code",
   "execution_count": 2,
   "metadata": {},
   "outputs": [
    {
     "name": "stdout",
     "output_type": "stream",
     "text": [
      "     GRE Score  TOEFL Score  University Rating  SOP  LOR  CGPA  Research\n",
      "0          337          118                  4  4.5  4.5  9.65         1\n",
      "1          324          107                  4  4.0  4.5  8.87         1\n",
      "2          316          104                  3  3.0  3.5  8.00         1\n",
      "3          322          110                  3  3.5  2.5  8.67         1\n",
      "4          314          103                  2  2.0  3.0  8.21         0\n",
      "..         ...          ...                ...  ...  ...   ...       ...\n",
      "495        332          108                  5  4.5  4.0  9.02         1\n",
      "496        337          117                  5  5.0  5.0  9.87         1\n",
      "497        330          120                  5  4.5  5.0  9.56         1\n",
      "498        312          103                  4  4.0  5.0  8.43         0\n",
      "499        327          113                  4  4.5  4.5  9.04         0\n",
      "\n",
      "[500 rows x 7 columns]\n"
     ]
    }
   ],
   "source": [
    "df = pd.read_csv('admissions_data.csv')\n",
    "df.columns = df.columns.str.strip()\n",
    "features = df\n",
    "features = features.drop('Serial No.', axis=1)\n",
    "features = features.drop('Chance of Admit', axis=1)\n",
    "print(features)"
   ]
  },
  {
   "cell_type": "code",
   "execution_count": 5,
   "metadata": {},
   "outputs": [
    {
     "name": "stdout",
     "output_type": "stream",
     "text": [
      "0      0.92\n",
      "1      0.76\n",
      "2      0.72\n",
      "3      0.80\n",
      "4      0.65\n",
      "       ... \n",
      "495    0.87\n",
      "496    0.96\n",
      "497    0.93\n",
      "498    0.73\n",
      "499    0.84\n",
      "Name: Chance of Admit, Length: 500, dtype: float64\n"
     ]
    }
   ],
   "source": [
    "labels = df['Chance of Admit']\n",
    "print(labels)"
   ]
  },
  {
   "cell_type": "code",
   "execution_count": 6,
   "metadata": {},
   "outputs": [
    {
     "name": "stdout",
     "output_type": "stream",
     "text": [
      "features_train \n",
      "      GRE Score  TOEFL Score  University Rating  SOP  LOR  CGPA  Research\n",
      "249        321          111                  3  3.5  4.0  8.83         1\n",
      "433        316          111                  4  4.0  5.0  8.54         0\n",
      "19         303          102                  3  3.5  3.0  8.50         0\n",
      "322        314          107                  2  2.5  4.0  8.27         0\n",
      "332        308          106                  3  3.5  2.5  8.21         1\n",
      "..         ...          ...                ...  ...  ...   ...       ...\n",
      "106        329          111                  4  4.5  4.5  9.18         1\n",
      "270        306          105                  2  2.5  3.0  8.22         1\n",
      "348        302           99                  1  2.0  2.0  7.25         0\n",
      "435        309          105                  2  2.5  4.0  7.68         0\n",
      "102        314          106                  2  4.0  3.5  8.25         0\n",
      "\n",
      "[400 rows x 7 columns]\n",
      "features_test \n",
      "      GRE Score  TOEFL Score  University Rating  SOP  LOR  CGPA  Research\n",
      "361        334          116                  4  4.0  3.5  9.54         1\n",
      "73         314          108                  4  4.5  4.0  9.04         1\n",
      "374        315          105                  2  2.0  2.5  7.65         0\n",
      "155        312          109                  3  3.0  3.0  8.69         0\n",
      "104        326          112                  3  3.5  3.0  9.05         1\n",
      "..         ...          ...                ...  ...  ...   ...       ...\n",
      "347        299           94                  1  1.0  1.0  7.34         0\n",
      "86         315          106                  3  4.5  3.5  8.42         0\n",
      "75         329          114                  2  2.0  4.0  8.56         1\n",
      "438        318          110                  1  2.5  3.5  8.54         1\n",
      "15         314          105                  3  3.5  2.5  8.30         0\n",
      "\n",
      "[100 rows x 7 columns]\n",
      "lables_test \n",
      " 361    0.93\n",
      "73     0.84\n",
      "374    0.39\n",
      "155    0.77\n",
      "104    0.74\n",
      "       ... \n",
      "347    0.42\n",
      "86     0.72\n",
      "75     0.72\n",
      "438    0.67\n",
      "15     0.54\n",
      "Name: Chance of Admit, Length: 100, dtype: float64\n",
      "lables_train \n",
      " 249    0.77\n",
      "433    0.71\n",
      "19     0.62\n",
      "322    0.72\n",
      "332    0.75\n",
      "       ... \n",
      "106    0.87\n",
      "270    0.72\n",
      "348    0.57\n",
      "435    0.55\n",
      "102    0.62\n",
      "Name: Chance of Admit, Length: 400, dtype: float64\n"
     ]
    }
   ],
   "source": [
    "#break features and lables into train and test sets\n",
    "features_train, features_test, labels_train, labels_test = train_test_split(features, labels, test_size=0.2, random_state=42)\n",
    "print(f\"features_train \\n {features_train}\")\n",
    "print(f\"features_test \\n {features_test}\")\n",
    "print(f\"lables_test \\n {labels_test}\")\n",
    "print(f\"lables_train \\n {labels_train}\")"
   ]
  },
  {
   "cell_type": "code",
   "execution_count": 7,
   "metadata": {},
   "outputs": [],
   "source": [
    "#scale data so they follow the same range\n",
    "features_scaler = StandardScaler()\n",
    "features_train_scaled = features_scaler.fit_transform(features_train)\n",
    "features_test_scaled = features_scaler.transform(features_test)\n",
    "labels_scaler = StandardScaler()\n",
    "labels_train_scaled = labels_scaler.fit_transform(labels_train.values.reshape(-1,1)).flatten()\n",
    "labels_test_scaled = labels_scaler.transform(labels_test.values.reshape(-1,1)).flatten()"
   ]
  },
  {
   "cell_type": "code",
   "execution_count": 14,
   "metadata": {},
   "outputs": [
    {
     "name": "stdout",
     "output_type": "stream",
     "text": [
      "           0         1         2         3         4         5         6\n",
      "0   1.576604  1.424271  0.775459  0.633979  0.021730  1.597217  0.895434\n",
      "1  -0.248961  0.109306  0.775459  1.141162  0.564984  0.764683  0.895434\n",
      "2  -0.157683 -0.383805 -0.972054 -1.394754 -1.064777 -1.549762 -1.116777\n",
      "3  -0.431518  0.273677 -0.098298 -0.380387 -0.521524  0.181909 -1.116777\n",
      "4   0.846378  0.766789 -0.098298  0.126796 -0.521524  0.781333  0.895434\n",
      "..       ...       ...       ...       ...       ...       ...       ...\n",
      "95 -1.618135 -2.191882 -1.845810 -2.409120 -2.694538 -2.065934 -1.116777\n",
      "96 -0.157683 -0.219435 -0.098298  1.141162  0.021730 -0.267660 -1.116777\n",
      "97  1.120212  1.095530 -0.972054 -1.394754  0.564984 -0.034550  0.895434\n",
      "98  0.116152  0.438048 -1.845810 -0.887570  0.021730 -0.067852  0.895434\n",
      "99 -0.248961 -0.383805 -0.098298  0.126796 -1.064777 -0.467468 -1.116777\n",
      "\n",
      "[100 rows x 7 columns]\n",
      "            0         1         2         3         4         5         6\n",
      "0    0.389986  0.602418 -0.098298  0.126796  0.564984  0.415018  0.895434\n",
      "1   -0.066405  0.602418  0.775459  0.633979  1.651491 -0.067852 -1.116777\n",
      "2   -1.253022 -0.876917 -0.098298  0.126796 -0.521524 -0.134454 -1.116777\n",
      "3   -0.248961 -0.055064 -0.972054 -0.887570  0.564984 -0.517420 -1.116777\n",
      "4   -0.796631 -0.219435 -0.098298  0.126796 -1.064777 -0.617324  0.895434\n",
      "..        ...       ...       ...       ...       ...       ...       ...\n",
      "395  1.120212  0.602418  0.775459  1.141162  1.108237  0.997792  0.895434\n",
      "396 -0.979187 -0.383805 -0.972054 -0.887570 -0.521524 -0.600673  0.895434\n",
      "397 -1.344300 -1.370029 -1.845810 -1.394754 -1.608031 -2.215790 -1.116777\n",
      "398 -0.705353 -0.383805 -0.972054 -0.887570  0.564984 -1.499810 -1.116777\n",
      "399 -0.248961 -0.219435 -0.972054  0.633979  0.021730 -0.550721 -1.116777\n",
      "\n",
      "[400 rows x 7 columns]\n"
     ]
    }
   ],
   "source": [
    "features_train_scaled_df = pd.DataFrame(features_train_scaled)\n",
    "features_test_scaled_df = pd.DataFrame(features_test_scaled)\n",
    "\n",
    "print(features_test_scaled_df)\n",
    "print(features_train_scaled_df)"
   ]
  },
  {
   "cell_type": "code",
   "execution_count": 15,
   "metadata": {},
   "outputs": [
    {
     "name": "stdout",
     "output_type": "stream",
     "text": [
      "            0\n",
      "0    0.326417\n",
      "1   -0.100970\n",
      "2   -0.742050\n",
      "3   -0.029739\n",
      "4    0.183954\n",
      "..        ...\n",
      "395  1.038728\n",
      "396 -0.029739\n",
      "397 -1.098206\n",
      "398 -1.240668\n",
      "399 -0.742050\n",
      "\n",
      "[400 rows x 1 columns]\n",
      "           0\n",
      "0   1.466114\n",
      "1   0.825034\n",
      "2  -2.380366\n",
      "3   0.326417\n",
      "4   0.112723\n",
      "..       ...\n",
      "95 -2.166672\n",
      "96 -0.029739\n",
      "97 -0.029739\n",
      "98 -0.385895\n",
      "99 -1.311899\n",
      "\n",
      "[100 rows x 1 columns]\n"
     ]
    }
   ],
   "source": [
    "labels_train_scaled_df = pd.DataFrame(labels_train_scaled)\n",
    "labels_test_scaled_df = pd.DataFrame(labels_test_scaled)\n",
    "\n",
    "print(labels_train_scaled_df)\n",
    "print(labels_test_scaled_df)"
   ]
  },
  {
   "cell_type": "code",
   "execution_count": 19,
   "metadata": {},
   "outputs": [],
   "source": [
    "def make_model(feat_train, labels_train):\n",
    "    model = Sequential()\n",
    "    model.add(Dense(64, input_dim=feat_train.shape[1], activation='relu'))\n",
    "    model.add(Dense(32, activation='relu'))\n",
    "    model.add(Dense(26, activation='relu'))\n",
    "    model.add(Dense(1, activation='linear'))\n",
    "    \n",
    "    model.compile(optimizer='adam', loss='mean_squared_error', metrics=['mean_squared_error'])\n",
    "    model.fit(feat_train, labels_train, epochs=100, batch_size=32, validation_split=0.2)\n",
    "\n",
    "    return model "
   ]
  },
  {
   "cell_type": "code",
   "execution_count": 20,
   "metadata": {},
   "outputs": [
    {
     "name": "stdout",
     "output_type": "stream",
     "text": [
      "Epoch 1/100\n"
     ]
    },
    {
     "name": "stderr",
     "output_type": "stream",
     "text": [
      "/Users/nathaneldering/Desktop/my_projects/Python/venv/lib/python3.12/site-packages/keras/src/layers/core/dense.py:87: UserWarning: Do not pass an `input_shape`/`input_dim` argument to a layer. When using Sequential models, prefer using an `Input(shape)` object as the first layer in the model instead.\n",
      "  super().__init__(activity_regularizer=activity_regularizer, **kwargs)\n"
     ]
    },
    {
     "name": "stdout",
     "output_type": "stream",
     "text": [
      "\u001b[1m10/10\u001b[0m \u001b[32m━━━━━━━━━━━━━━━━━━━━\u001b[0m\u001b[37m\u001b[0m \u001b[1m0s\u001b[0m 6ms/step - loss: 0.9986 - mean_squared_error: 0.9986 - val_loss: 0.6528 - val_mean_squared_error: 0.6528\n",
      "Epoch 2/100\n",
      "\u001b[1m10/10\u001b[0m \u001b[32m━━━━━━━━━━━━━━━━━━━━\u001b[0m\u001b[37m\u001b[0m \u001b[1m0s\u001b[0m 1ms/step - loss: 0.4944 - mean_squared_error: 0.4944 - val_loss: 0.3301 - val_mean_squared_error: 0.3301\n",
      "Epoch 3/100\n",
      "\u001b[1m10/10\u001b[0m \u001b[32m━━━━━━━━━━━━━━━━━━━━\u001b[0m\u001b[37m\u001b[0m \u001b[1m0s\u001b[0m 1ms/step - loss: 0.2931 - mean_squared_error: 0.2931 - val_loss: 0.1955 - val_mean_squared_error: 0.1955\n",
      "Epoch 4/100\n",
      "\u001b[1m10/10\u001b[0m \u001b[32m━━━━━━━━━━━━━━━━━━━━\u001b[0m\u001b[37m\u001b[0m \u001b[1m0s\u001b[0m 1ms/step - loss: 0.2275 - mean_squared_error: 0.2275 - val_loss: 0.1713 - val_mean_squared_error: 0.1713\n",
      "Epoch 5/100\n",
      "\u001b[1m10/10\u001b[0m \u001b[32m━━━━━━━━━━━━━━━━━━━━\u001b[0m\u001b[37m\u001b[0m \u001b[1m0s\u001b[0m 1ms/step - loss: 0.2278 - mean_squared_error: 0.2278 - val_loss: 0.1559 - val_mean_squared_error: 0.1559\n",
      "Epoch 6/100\n",
      "\u001b[1m10/10\u001b[0m \u001b[32m━━━━━━━━━━━━━━━━━━━━\u001b[0m\u001b[37m\u001b[0m \u001b[1m0s\u001b[0m 1ms/step - loss: 0.2238 - mean_squared_error: 0.2238 - val_loss: 0.1482 - val_mean_squared_error: 0.1482\n",
      "Epoch 7/100\n",
      "\u001b[1m10/10\u001b[0m \u001b[32m━━━━━━━━━━━━━━━━━━━━\u001b[0m\u001b[37m\u001b[0m \u001b[1m0s\u001b[0m 1ms/step - loss: 0.1883 - mean_squared_error: 0.1883 - val_loss: 0.1432 - val_mean_squared_error: 0.1432\n",
      "Epoch 8/100\n",
      "\u001b[1m10/10\u001b[0m \u001b[32m━━━━━━━━━━━━━━━━━━━━\u001b[0m\u001b[37m\u001b[0m \u001b[1m0s\u001b[0m 1ms/step - loss: 0.2293 - mean_squared_error: 0.2293 - val_loss: 0.1375 - val_mean_squared_error: 0.1375\n",
      "Epoch 9/100\n",
      "\u001b[1m10/10\u001b[0m \u001b[32m━━━━━━━━━━━━━━━━━━━━\u001b[0m\u001b[37m\u001b[0m \u001b[1m0s\u001b[0m 2ms/step - loss: 0.1807 - mean_squared_error: 0.1807 - val_loss: 0.1351 - val_mean_squared_error: 0.1351\n",
      "Epoch 10/100\n",
      "\u001b[1m10/10\u001b[0m \u001b[32m━━━━━━━━━━━━━━━━━━━━\u001b[0m\u001b[37m\u001b[0m \u001b[1m0s\u001b[0m 1ms/step - loss: 0.2038 - mean_squared_error: 0.2038 - val_loss: 0.1338 - val_mean_squared_error: 0.1338\n",
      "Epoch 11/100\n",
      "\u001b[1m10/10\u001b[0m \u001b[32m━━━━━━━━━━━━━━━━━━━━\u001b[0m\u001b[37m\u001b[0m \u001b[1m0s\u001b[0m 1ms/step - loss: 0.1954 - mean_squared_error: 0.1954 - val_loss: 0.1318 - val_mean_squared_error: 0.1318\n",
      "Epoch 12/100\n",
      "\u001b[1m10/10\u001b[0m \u001b[32m━━━━━━━━━━━━━━━━━━━━\u001b[0m\u001b[37m\u001b[0m \u001b[1m0s\u001b[0m 1ms/step - loss: 0.1861 - mean_squared_error: 0.1861 - val_loss: 0.1350 - val_mean_squared_error: 0.1350\n",
      "Epoch 13/100\n",
      "\u001b[1m10/10\u001b[0m \u001b[32m━━━━━━━━━━━━━━━━━━━━\u001b[0m\u001b[37m\u001b[0m \u001b[1m0s\u001b[0m 1ms/step - loss: 0.1835 - mean_squared_error: 0.1835 - val_loss: 0.1317 - val_mean_squared_error: 0.1317\n",
      "Epoch 14/100\n",
      "\u001b[1m10/10\u001b[0m \u001b[32m━━━━━━━━━━━━━━━━━━━━\u001b[0m\u001b[37m\u001b[0m \u001b[1m0s\u001b[0m 1ms/step - loss: 0.2168 - mean_squared_error: 0.2168 - val_loss: 0.1332 - val_mean_squared_error: 0.1332\n",
      "Epoch 15/100\n",
      "\u001b[1m10/10\u001b[0m \u001b[32m━━━━━━━━━━━━━━━━━━━━\u001b[0m\u001b[37m\u001b[0m \u001b[1m0s\u001b[0m 1ms/step - loss: 0.1798 - mean_squared_error: 0.1798 - val_loss: 0.1327 - val_mean_squared_error: 0.1327\n",
      "Epoch 16/100\n",
      "\u001b[1m10/10\u001b[0m \u001b[32m━━━━━━━━━━━━━━━━━━━━\u001b[0m\u001b[37m\u001b[0m \u001b[1m0s\u001b[0m 1ms/step - loss: 0.1791 - mean_squared_error: 0.1791 - val_loss: 0.1334 - val_mean_squared_error: 0.1334\n",
      "Epoch 17/100\n",
      "\u001b[1m10/10\u001b[0m \u001b[32m━━━━━━━━━━━━━━━━━━━━\u001b[0m\u001b[37m\u001b[0m \u001b[1m0s\u001b[0m 1ms/step - loss: 0.1951 - mean_squared_error: 0.1951 - val_loss: 0.1354 - val_mean_squared_error: 0.1354\n",
      "Epoch 18/100\n",
      "\u001b[1m10/10\u001b[0m \u001b[32m━━━━━━━━━━━━━━━━━━━━\u001b[0m\u001b[37m\u001b[0m \u001b[1m0s\u001b[0m 1ms/step - loss: 0.1667 - mean_squared_error: 0.1667 - val_loss: 0.1321 - val_mean_squared_error: 0.1321\n",
      "Epoch 19/100\n",
      "\u001b[1m10/10\u001b[0m \u001b[32m━━━━━━━━━━━━━━━━━━━━\u001b[0m\u001b[37m\u001b[0m \u001b[1m0s\u001b[0m 1ms/step - loss: 0.1739 - mean_squared_error: 0.1739 - val_loss: 0.1358 - val_mean_squared_error: 0.1358\n",
      "Epoch 20/100\n",
      "\u001b[1m10/10\u001b[0m \u001b[32m━━━━━━━━━━━━━━━━━━━━\u001b[0m\u001b[37m\u001b[0m \u001b[1m0s\u001b[0m 1ms/step - loss: 0.1391 - mean_squared_error: 0.1391 - val_loss: 0.1331 - val_mean_squared_error: 0.1331\n",
      "Epoch 21/100\n",
      "\u001b[1m10/10\u001b[0m \u001b[32m━━━━━━━━━━━━━━━━━━━━\u001b[0m\u001b[37m\u001b[0m \u001b[1m0s\u001b[0m 1ms/step - loss: 0.1782 - mean_squared_error: 0.1782 - val_loss: 0.1333 - val_mean_squared_error: 0.1333\n",
      "Epoch 22/100\n",
      "\u001b[1m10/10\u001b[0m \u001b[32m━━━━━━━━━━━━━━━━━━━━\u001b[0m\u001b[37m\u001b[0m \u001b[1m0s\u001b[0m 1ms/step - loss: 0.1711 - mean_squared_error: 0.1711 - val_loss: 0.1348 - val_mean_squared_error: 0.1348\n",
      "Epoch 23/100\n",
      "\u001b[1m10/10\u001b[0m \u001b[32m━━━━━━━━━━━━━━━━━━━━\u001b[0m\u001b[37m\u001b[0m \u001b[1m0s\u001b[0m 1ms/step - loss: 0.1502 - mean_squared_error: 0.1502 - val_loss: 0.1363 - val_mean_squared_error: 0.1363\n",
      "Epoch 24/100\n",
      "\u001b[1m10/10\u001b[0m \u001b[32m━━━━━━━━━━━━━━━━━━━━\u001b[0m\u001b[37m\u001b[0m \u001b[1m0s\u001b[0m 1ms/step - loss: 0.1711 - mean_squared_error: 0.1711 - val_loss: 0.1348 - val_mean_squared_error: 0.1348\n",
      "Epoch 25/100\n",
      "\u001b[1m10/10\u001b[0m \u001b[32m━━━━━━━━━━━━━━━━━━━━\u001b[0m\u001b[37m\u001b[0m \u001b[1m0s\u001b[0m 1ms/step - loss: 0.1596 - mean_squared_error: 0.1596 - val_loss: 0.1372 - val_mean_squared_error: 0.1372\n",
      "Epoch 26/100\n",
      "\u001b[1m10/10\u001b[0m \u001b[32m━━━━━━━━━━━━━━━━━━━━\u001b[0m\u001b[37m\u001b[0m \u001b[1m0s\u001b[0m 1ms/step - loss: 0.1341 - mean_squared_error: 0.1341 - val_loss: 0.1360 - val_mean_squared_error: 0.1360\n",
      "Epoch 27/100\n",
      "\u001b[1m10/10\u001b[0m \u001b[32m━━━━━━━━━━━━━━━━━━━━\u001b[0m\u001b[37m\u001b[0m \u001b[1m0s\u001b[0m 2ms/step - loss: 0.1629 - mean_squared_error: 0.1629 - val_loss: 0.1367 - val_mean_squared_error: 0.1367\n",
      "Epoch 28/100\n",
      "\u001b[1m10/10\u001b[0m \u001b[32m━━━━━━━━━━━━━━━━━━━━\u001b[0m\u001b[37m\u001b[0m \u001b[1m0s\u001b[0m 1ms/step - loss: 0.1458 - mean_squared_error: 0.1458 - val_loss: 0.1406 - val_mean_squared_error: 0.1406\n",
      "Epoch 29/100\n",
      "\u001b[1m10/10\u001b[0m \u001b[32m━━━━━━━━━━━━━━━━━━━━\u001b[0m\u001b[37m\u001b[0m \u001b[1m0s\u001b[0m 1ms/step - loss: 0.1304 - mean_squared_error: 0.1304 - val_loss: 0.1361 - val_mean_squared_error: 0.1361\n",
      "Epoch 30/100\n",
      "\u001b[1m10/10\u001b[0m \u001b[32m━━━━━━━━━━━━━━━━━━━━\u001b[0m\u001b[37m\u001b[0m \u001b[1m0s\u001b[0m 1ms/step - loss: 0.1395 - mean_squared_error: 0.1395 - val_loss: 0.1380 - val_mean_squared_error: 0.1380\n",
      "Epoch 31/100\n",
      "\u001b[1m10/10\u001b[0m \u001b[32m━━━━━━━━━━━━━━━━━━━━\u001b[0m\u001b[37m\u001b[0m \u001b[1m0s\u001b[0m 1ms/step - loss: 0.1447 - mean_squared_error: 0.1447 - val_loss: 0.1402 - val_mean_squared_error: 0.1402\n",
      "Epoch 32/100\n",
      "\u001b[1m10/10\u001b[0m \u001b[32m━━━━━━━━━━━━━━━━━━━━\u001b[0m\u001b[37m\u001b[0m \u001b[1m0s\u001b[0m 1ms/step - loss: 0.1230 - mean_squared_error: 0.1230 - val_loss: 0.1405 - val_mean_squared_error: 0.1405\n",
      "Epoch 33/100\n",
      "\u001b[1m10/10\u001b[0m \u001b[32m━━━━━━━━━━━━━━━━━━━━\u001b[0m\u001b[37m\u001b[0m \u001b[1m0s\u001b[0m 3ms/step - loss: 0.1347 - mean_squared_error: 0.1347 - val_loss: 0.1436 - val_mean_squared_error: 0.1436\n",
      "Epoch 34/100\n",
      "\u001b[1m10/10\u001b[0m \u001b[32m━━━━━━━━━━━━━━━━━━━━\u001b[0m\u001b[37m\u001b[0m \u001b[1m0s\u001b[0m 1ms/step - loss: 0.1084 - mean_squared_error: 0.1084 - val_loss: 0.1397 - val_mean_squared_error: 0.1397\n",
      "Epoch 35/100\n",
      "\u001b[1m10/10\u001b[0m \u001b[32m━━━━━━━━━━━━━━━━━━━━\u001b[0m\u001b[37m\u001b[0m \u001b[1m0s\u001b[0m 1ms/step - loss: 0.1436 - mean_squared_error: 0.1436 - val_loss: 0.1434 - val_mean_squared_error: 0.1434\n",
      "Epoch 36/100\n",
      "\u001b[1m10/10\u001b[0m \u001b[32m━━━━━━━━━━━━━━━━━━━━\u001b[0m\u001b[37m\u001b[0m \u001b[1m0s\u001b[0m 1ms/step - loss: 0.1097 - mean_squared_error: 0.1097 - val_loss: 0.1438 - val_mean_squared_error: 0.1438\n",
      "Epoch 37/100\n",
      "\u001b[1m10/10\u001b[0m \u001b[32m━━━━━━━━━━━━━━━━━━━━\u001b[0m\u001b[37m\u001b[0m \u001b[1m0s\u001b[0m 1ms/step - loss: 0.1320 - mean_squared_error: 0.1320 - val_loss: 0.1473 - val_mean_squared_error: 0.1473\n",
      "Epoch 38/100\n",
      "\u001b[1m10/10\u001b[0m \u001b[32m━━━━━━━━━━━━━━━━━━━━\u001b[0m\u001b[37m\u001b[0m \u001b[1m0s\u001b[0m 1ms/step - loss: 0.1146 - mean_squared_error: 0.1146 - val_loss: 0.1503 - val_mean_squared_error: 0.1503\n",
      "Epoch 39/100\n",
      "\u001b[1m10/10\u001b[0m \u001b[32m━━━━━━━━━━━━━━━━━━━━\u001b[0m\u001b[37m\u001b[0m \u001b[1m0s\u001b[0m 1ms/step - loss: 0.1140 - mean_squared_error: 0.1140 - val_loss: 0.1486 - val_mean_squared_error: 0.1486\n",
      "Epoch 40/100\n",
      "\u001b[1m10/10\u001b[0m \u001b[32m━━━━━━━━━━━━━━━━━━━━\u001b[0m\u001b[37m\u001b[0m \u001b[1m0s\u001b[0m 1ms/step - loss: 0.1295 - mean_squared_error: 0.1295 - val_loss: 0.1550 - val_mean_squared_error: 0.1550\n",
      "Epoch 41/100\n",
      "\u001b[1m10/10\u001b[0m \u001b[32m━━━━━━━━━━━━━━━━━━━━\u001b[0m\u001b[37m\u001b[0m \u001b[1m0s\u001b[0m 1ms/step - loss: 0.1226 - mean_squared_error: 0.1226 - val_loss: 0.1577 - val_mean_squared_error: 0.1577\n",
      "Epoch 42/100\n",
      "\u001b[1m10/10\u001b[0m \u001b[32m━━━━━━━━━━━━━━━━━━━━\u001b[0m\u001b[37m\u001b[0m \u001b[1m0s\u001b[0m 1ms/step - loss: 0.1139 - mean_squared_error: 0.1139 - val_loss: 0.1557 - val_mean_squared_error: 0.1557\n",
      "Epoch 43/100\n",
      "\u001b[1m10/10\u001b[0m \u001b[32m━━━━━━━━━━━━━━━━━━━━\u001b[0m\u001b[37m\u001b[0m \u001b[1m0s\u001b[0m 1ms/step - loss: 0.1338 - mean_squared_error: 0.1338 - val_loss: 0.1614 - val_mean_squared_error: 0.1614\n",
      "Epoch 44/100\n",
      "\u001b[1m10/10\u001b[0m \u001b[32m━━━━━━━━━━━━━━━━━━━━\u001b[0m\u001b[37m\u001b[0m \u001b[1m0s\u001b[0m 1ms/step - loss: 0.1206 - mean_squared_error: 0.1206 - val_loss: 0.1623 - val_mean_squared_error: 0.1623\n",
      "Epoch 45/100\n",
      "\u001b[1m10/10\u001b[0m \u001b[32m━━━━━━━━━━━━━━━━━━━━\u001b[0m\u001b[37m\u001b[0m \u001b[1m0s\u001b[0m 1ms/step - loss: 0.1425 - mean_squared_error: 0.1425 - val_loss: 0.1607 - val_mean_squared_error: 0.1607\n",
      "Epoch 46/100\n",
      "\u001b[1m10/10\u001b[0m \u001b[32m━━━━━━━━━━━━━━━━━━━━\u001b[0m\u001b[37m\u001b[0m \u001b[1m0s\u001b[0m 1ms/step - loss: 0.1097 - mean_squared_error: 0.1097 - val_loss: 0.1651 - val_mean_squared_error: 0.1651\n",
      "Epoch 47/100\n",
      "\u001b[1m10/10\u001b[0m \u001b[32m━━━━━━━━━━━━━━━━━━━━\u001b[0m\u001b[37m\u001b[0m \u001b[1m0s\u001b[0m 1ms/step - loss: 0.1021 - mean_squared_error: 0.1021 - val_loss: 0.1640 - val_mean_squared_error: 0.1640\n",
      "Epoch 48/100\n",
      "\u001b[1m10/10\u001b[0m \u001b[32m━━━━━━━━━━━━━━━━━━━━\u001b[0m\u001b[37m\u001b[0m \u001b[1m0s\u001b[0m 1ms/step - loss: 0.1055 - mean_squared_error: 0.1055 - val_loss: 0.1720 - val_mean_squared_error: 0.1720\n",
      "Epoch 49/100\n",
      "\u001b[1m10/10\u001b[0m \u001b[32m━━━━━━━━━━━━━━━━━━━━\u001b[0m\u001b[37m\u001b[0m \u001b[1m0s\u001b[0m 1ms/step - loss: 0.0939 - mean_squared_error: 0.0939 - val_loss: 0.1706 - val_mean_squared_error: 0.1706\n",
      "Epoch 50/100\n",
      "\u001b[1m10/10\u001b[0m \u001b[32m━━━━━━━━━━━━━━━━━━━━\u001b[0m\u001b[37m\u001b[0m \u001b[1m0s\u001b[0m 1ms/step - loss: 0.0987 - mean_squared_error: 0.0987 - val_loss: 0.1725 - val_mean_squared_error: 0.1725\n",
      "Epoch 51/100\n",
      "\u001b[1m10/10\u001b[0m \u001b[32m━━━━━━━━━━━━━━━━━━━━\u001b[0m\u001b[37m\u001b[0m \u001b[1m0s\u001b[0m 2ms/step - loss: 0.0930 - mean_squared_error: 0.0930 - val_loss: 0.1753 - val_mean_squared_error: 0.1753\n",
      "Epoch 52/100\n",
      "\u001b[1m10/10\u001b[0m \u001b[32m━━━━━━━━━━━━━━━━━━━━\u001b[0m\u001b[37m\u001b[0m \u001b[1m0s\u001b[0m 1ms/step - loss: 0.1256 - mean_squared_error: 0.1256 - val_loss: 0.1797 - val_mean_squared_error: 0.1797\n",
      "Epoch 53/100\n",
      "\u001b[1m10/10\u001b[0m \u001b[32m━━━━━━━━━━━━━━━━━━━━\u001b[0m\u001b[37m\u001b[0m \u001b[1m0s\u001b[0m 1ms/step - loss: 0.0895 - mean_squared_error: 0.0895 - val_loss: 0.1804 - val_mean_squared_error: 0.1804\n",
      "Epoch 54/100\n",
      "\u001b[1m10/10\u001b[0m \u001b[32m━━━━━━━━━━━━━━━━━━━━\u001b[0m\u001b[37m\u001b[0m \u001b[1m0s\u001b[0m 1ms/step - loss: 0.0985 - mean_squared_error: 0.0985 - val_loss: 0.1796 - val_mean_squared_error: 0.1796\n",
      "Epoch 55/100\n",
      "\u001b[1m10/10\u001b[0m \u001b[32m━━━━━━━━━━━━━━━━━━━━\u001b[0m\u001b[37m\u001b[0m \u001b[1m0s\u001b[0m 1ms/step - loss: 0.1036 - mean_squared_error: 0.1036 - val_loss: 0.1857 - val_mean_squared_error: 0.1857\n",
      "Epoch 56/100\n",
      "\u001b[1m10/10\u001b[0m \u001b[32m━━━━━━━━━━━━━━━━━━━━\u001b[0m\u001b[37m\u001b[0m \u001b[1m0s\u001b[0m 1ms/step - loss: 0.0912 - mean_squared_error: 0.0912 - val_loss: 0.1882 - val_mean_squared_error: 0.1882\n",
      "Epoch 57/100\n",
      "\u001b[1m10/10\u001b[0m \u001b[32m━━━━━━━━━━━━━━━━━━━━\u001b[0m\u001b[37m\u001b[0m \u001b[1m0s\u001b[0m 1ms/step - loss: 0.0771 - mean_squared_error: 0.0771 - val_loss: 0.1893 - val_mean_squared_error: 0.1893\n",
      "Epoch 58/100\n",
      "\u001b[1m10/10\u001b[0m \u001b[32m━━━━━━━━━━━━━━━━━━━━\u001b[0m\u001b[37m\u001b[0m \u001b[1m0s\u001b[0m 1ms/step - loss: 0.1132 - mean_squared_error: 0.1132 - val_loss: 0.1872 - val_mean_squared_error: 0.1872\n",
      "Epoch 59/100\n",
      "\u001b[1m10/10\u001b[0m \u001b[32m━━━━━━━━━━━━━━━━━━━━\u001b[0m\u001b[37m\u001b[0m \u001b[1m0s\u001b[0m 1ms/step - loss: 0.0941 - mean_squared_error: 0.0941 - val_loss: 0.1950 - val_mean_squared_error: 0.1950\n",
      "Epoch 60/100\n",
      "\u001b[1m10/10\u001b[0m \u001b[32m━━━━━━━━━━━━━━━━━━━━\u001b[0m\u001b[37m\u001b[0m \u001b[1m0s\u001b[0m 1ms/step - loss: 0.0898 - mean_squared_error: 0.0898 - val_loss: 0.1961 - val_mean_squared_error: 0.1961\n",
      "Epoch 61/100\n",
      "\u001b[1m10/10\u001b[0m \u001b[32m━━━━━━━━━━━━━━━━━━━━\u001b[0m\u001b[37m\u001b[0m \u001b[1m0s\u001b[0m 1ms/step - loss: 0.0851 - mean_squared_error: 0.0851 - val_loss: 0.2004 - val_mean_squared_error: 0.2004\n",
      "Epoch 62/100\n",
      "\u001b[1m10/10\u001b[0m \u001b[32m━━━━━━━━━━━━━━━━━━━━\u001b[0m\u001b[37m\u001b[0m \u001b[1m0s\u001b[0m 1ms/step - loss: 0.0820 - mean_squared_error: 0.0820 - val_loss: 0.1973 - val_mean_squared_error: 0.1973\n",
      "Epoch 63/100\n",
      "\u001b[1m10/10\u001b[0m \u001b[32m━━━━━━━━━━━━━━━━━━━━\u001b[0m\u001b[37m\u001b[0m \u001b[1m0s\u001b[0m 1ms/step - loss: 0.0940 - mean_squared_error: 0.0940 - val_loss: 0.1971 - val_mean_squared_error: 0.1971\n",
      "Epoch 64/100\n",
      "\u001b[1m10/10\u001b[0m \u001b[32m━━━━━━━━━━━━━━━━━━━━\u001b[0m\u001b[37m\u001b[0m \u001b[1m0s\u001b[0m 2ms/step - loss: 0.0833 - mean_squared_error: 0.0833 - val_loss: 0.2070 - val_mean_squared_error: 0.2070\n",
      "Epoch 65/100\n",
      "\u001b[1m10/10\u001b[0m \u001b[32m━━━━━━━━━━━━━━━━━━━━\u001b[0m\u001b[37m\u001b[0m \u001b[1m0s\u001b[0m 1ms/step - loss: 0.0854 - mean_squared_error: 0.0854 - val_loss: 0.2050 - val_mean_squared_error: 0.2050\n",
      "Epoch 66/100\n",
      "\u001b[1m10/10\u001b[0m \u001b[32m━━━━━━━━━━━━━━━━━━━━\u001b[0m\u001b[37m\u001b[0m \u001b[1m0s\u001b[0m 2ms/step - loss: 0.0826 - mean_squared_error: 0.0826 - val_loss: 0.2083 - val_mean_squared_error: 0.2083\n",
      "Epoch 67/100\n",
      "\u001b[1m10/10\u001b[0m \u001b[32m━━━━━━━━━━━━━━━━━━━━\u001b[0m\u001b[37m\u001b[0m \u001b[1m0s\u001b[0m 1ms/step - loss: 0.0800 - mean_squared_error: 0.0800 - val_loss: 0.2090 - val_mean_squared_error: 0.2090\n",
      "Epoch 68/100\n",
      "\u001b[1m10/10\u001b[0m \u001b[32m━━━━━━━━━━━━━━━━━━━━\u001b[0m\u001b[37m\u001b[0m \u001b[1m0s\u001b[0m 1ms/step - loss: 0.0908 - mean_squared_error: 0.0908 - val_loss: 0.2103 - val_mean_squared_error: 0.2103\n",
      "Epoch 69/100\n",
      "\u001b[1m10/10\u001b[0m \u001b[32m━━━━━━━━━━━━━━━━━━━━\u001b[0m\u001b[37m\u001b[0m \u001b[1m0s\u001b[0m 1ms/step - loss: 0.0882 - mean_squared_error: 0.0882 - val_loss: 0.2106 - val_mean_squared_error: 0.2106\n",
      "Epoch 70/100\n",
      "\u001b[1m10/10\u001b[0m \u001b[32m━━━━━━━━━━━━━━━━━━━━\u001b[0m\u001b[37m\u001b[0m \u001b[1m0s\u001b[0m 1ms/step - loss: 0.0771 - mean_squared_error: 0.0771 - val_loss: 0.2140 - val_mean_squared_error: 0.2140\n",
      "Epoch 71/100\n",
      "\u001b[1m10/10\u001b[0m \u001b[32m━━━━━━━━━━━━━━━━━━━━\u001b[0m\u001b[37m\u001b[0m \u001b[1m0s\u001b[0m 3ms/step - loss: 0.0756 - mean_squared_error: 0.0756 - val_loss: 0.2118 - val_mean_squared_error: 0.2118\n",
      "Epoch 72/100\n",
      "\u001b[1m10/10\u001b[0m \u001b[32m━━━━━━━━━━━━━━━━━━━━\u001b[0m\u001b[37m\u001b[0m \u001b[1m0s\u001b[0m 1ms/step - loss: 0.0586 - mean_squared_error: 0.0586 - val_loss: 0.2155 - val_mean_squared_error: 0.2155\n",
      "Epoch 73/100\n",
      "\u001b[1m10/10\u001b[0m \u001b[32m━━━━━━━━━━━━━━━━━━━━\u001b[0m\u001b[37m\u001b[0m \u001b[1m0s\u001b[0m 1ms/step - loss: 0.0658 - mean_squared_error: 0.0658 - val_loss: 0.2161 - val_mean_squared_error: 0.2161\n",
      "Epoch 74/100\n",
      "\u001b[1m10/10\u001b[0m \u001b[32m━━━━━━━━━━━━━━━━━━━━\u001b[0m\u001b[37m\u001b[0m \u001b[1m0s\u001b[0m 1ms/step - loss: 0.0705 - mean_squared_error: 0.0705 - val_loss: 0.2153 - val_mean_squared_error: 0.2153\n",
      "Epoch 75/100\n",
      "\u001b[1m10/10\u001b[0m \u001b[32m━━━━━━━━━━━━━━━━━━━━\u001b[0m\u001b[37m\u001b[0m \u001b[1m0s\u001b[0m 1ms/step - loss: 0.0935 - mean_squared_error: 0.0935 - val_loss: 0.2183 - val_mean_squared_error: 0.2183\n",
      "Epoch 76/100\n",
      "\u001b[1m10/10\u001b[0m \u001b[32m━━━━━━━━━━━━━━━━━━━━\u001b[0m\u001b[37m\u001b[0m \u001b[1m0s\u001b[0m 1ms/step - loss: 0.0856 - mean_squared_error: 0.0856 - val_loss: 0.2237 - val_mean_squared_error: 0.2237\n",
      "Epoch 77/100\n",
      "\u001b[1m10/10\u001b[0m \u001b[32m━━━━━━━━━━━━━━━━━━━━\u001b[0m\u001b[37m\u001b[0m \u001b[1m0s\u001b[0m 1ms/step - loss: 0.0819 - mean_squared_error: 0.0819 - val_loss: 0.2245 - val_mean_squared_error: 0.2245\n",
      "Epoch 78/100\n",
      "\u001b[1m10/10\u001b[0m \u001b[32m━━━━━━━━━━━━━━━━━━━━\u001b[0m\u001b[37m\u001b[0m \u001b[1m0s\u001b[0m 1ms/step - loss: 0.0693 - mean_squared_error: 0.0693 - val_loss: 0.2225 - val_mean_squared_error: 0.2225\n",
      "Epoch 79/100\n",
      "\u001b[1m10/10\u001b[0m \u001b[32m━━━━━━━━━━━━━━━━━━━━\u001b[0m\u001b[37m\u001b[0m \u001b[1m0s\u001b[0m 1ms/step - loss: 0.0666 - mean_squared_error: 0.0666 - val_loss: 0.2207 - val_mean_squared_error: 0.2207\n",
      "Epoch 80/100\n",
      "\u001b[1m10/10\u001b[0m \u001b[32m━━━━━━━━━━━━━━━━━━━━\u001b[0m\u001b[37m\u001b[0m \u001b[1m0s\u001b[0m 1ms/step - loss: 0.0840 - mean_squared_error: 0.0840 - val_loss: 0.2251 - val_mean_squared_error: 0.2251\n",
      "Epoch 81/100\n",
      "\u001b[1m10/10\u001b[0m \u001b[32m━━━━━━━━━━━━━━━━━━━━\u001b[0m\u001b[37m\u001b[0m \u001b[1m0s\u001b[0m 1ms/step - loss: 0.0673 - mean_squared_error: 0.0673 - val_loss: 0.2262 - val_mean_squared_error: 0.2262\n",
      "Epoch 82/100\n",
      "\u001b[1m10/10\u001b[0m \u001b[32m━━━━━━━━━━━━━━━━━━━━\u001b[0m\u001b[37m\u001b[0m \u001b[1m0s\u001b[0m 1ms/step - loss: 0.0858 - mean_squared_error: 0.0858 - val_loss: 0.2317 - val_mean_squared_error: 0.2317\n",
      "Epoch 83/100\n",
      "\u001b[1m10/10\u001b[0m \u001b[32m━━━━━━━━━━━━━━━━━━━━\u001b[0m\u001b[37m\u001b[0m \u001b[1m0s\u001b[0m 1ms/step - loss: 0.0652 - mean_squared_error: 0.0652 - val_loss: 0.2323 - val_mean_squared_error: 0.2323\n",
      "Epoch 84/100\n",
      "\u001b[1m10/10\u001b[0m \u001b[32m━━━━━━━━━━━━━━━━━━━━\u001b[0m\u001b[37m\u001b[0m \u001b[1m0s\u001b[0m 1ms/step - loss: 0.0613 - mean_squared_error: 0.0613 - val_loss: 0.2270 - val_mean_squared_error: 0.2270\n",
      "Epoch 85/100\n",
      "\u001b[1m10/10\u001b[0m \u001b[32m━━━━━━━━━━━━━━━━━━━━\u001b[0m\u001b[37m\u001b[0m \u001b[1m0s\u001b[0m 1ms/step - loss: 0.0666 - mean_squared_error: 0.0666 - val_loss: 0.2382 - val_mean_squared_error: 0.2382\n",
      "Epoch 86/100\n",
      "\u001b[1m10/10\u001b[0m \u001b[32m━━━━━━━━━━━━━━━━━━━━\u001b[0m\u001b[37m\u001b[0m \u001b[1m0s\u001b[0m 1ms/step - loss: 0.0593 - mean_squared_error: 0.0593 - val_loss: 0.2284 - val_mean_squared_error: 0.2284\n",
      "Epoch 87/100\n",
      "\u001b[1m10/10\u001b[0m \u001b[32m━━━━━━━━━━━━━━━━━━━━\u001b[0m\u001b[37m\u001b[0m \u001b[1m0s\u001b[0m 1ms/step - loss: 0.0615 - mean_squared_error: 0.0615 - val_loss: 0.2326 - val_mean_squared_error: 0.2326\n",
      "Epoch 88/100\n",
      "\u001b[1m10/10\u001b[0m \u001b[32m━━━━━━━━━━━━━━━━━━━━\u001b[0m\u001b[37m\u001b[0m \u001b[1m0s\u001b[0m 1ms/step - loss: 0.0579 - mean_squared_error: 0.0579 - val_loss: 0.2315 - val_mean_squared_error: 0.2315\n",
      "Epoch 89/100\n",
      "\u001b[1m10/10\u001b[0m \u001b[32m━━━━━━━━━━━━━━━━━━━━\u001b[0m\u001b[37m\u001b[0m \u001b[1m0s\u001b[0m 1ms/step - loss: 0.0723 - mean_squared_error: 0.0723 - val_loss: 0.2323 - val_mean_squared_error: 0.2323\n",
      "Epoch 90/100\n",
      "\u001b[1m10/10\u001b[0m \u001b[32m━━━━━━━━━━━━━━━━━━━━\u001b[0m\u001b[37m\u001b[0m \u001b[1m0s\u001b[0m 1ms/step - loss: 0.0782 - mean_squared_error: 0.0782 - val_loss: 0.2367 - val_mean_squared_error: 0.2367\n",
      "Epoch 91/100\n",
      "\u001b[1m10/10\u001b[0m \u001b[32m━━━━━━━━━━━━━━━━━━━━\u001b[0m\u001b[37m\u001b[0m \u001b[1m0s\u001b[0m 1ms/step - loss: 0.0577 - mean_squared_error: 0.0577 - val_loss: 0.2370 - val_mean_squared_error: 0.2370\n",
      "Epoch 92/100\n",
      "\u001b[1m10/10\u001b[0m \u001b[32m━━━━━━━━━━━━━━━━━━━━\u001b[0m\u001b[37m\u001b[0m \u001b[1m0s\u001b[0m 1ms/step - loss: 0.0556 - mean_squared_error: 0.0556 - val_loss: 0.2310 - val_mean_squared_error: 0.2310\n",
      "Epoch 93/100\n",
      "\u001b[1m10/10\u001b[0m \u001b[32m━━━━━━━━━━━━━━━━━━━━\u001b[0m\u001b[37m\u001b[0m \u001b[1m0s\u001b[0m 1ms/step - loss: 0.0571 - mean_squared_error: 0.0571 - val_loss: 0.2375 - val_mean_squared_error: 0.2375\n",
      "Epoch 94/100\n",
      "\u001b[1m10/10\u001b[0m \u001b[32m━━━━━━━━━━━━━━━━━━━━\u001b[0m\u001b[37m\u001b[0m \u001b[1m0s\u001b[0m 1ms/step - loss: 0.0538 - mean_squared_error: 0.0538 - val_loss: 0.2382 - val_mean_squared_error: 0.2382\n",
      "Epoch 95/100\n",
      "\u001b[1m10/10\u001b[0m \u001b[32m━━━━━━━━━━━━━━━━━━━━\u001b[0m\u001b[37m\u001b[0m \u001b[1m0s\u001b[0m 1ms/step - loss: 0.0545 - mean_squared_error: 0.0545 - val_loss: 0.2401 - val_mean_squared_error: 0.2401\n",
      "Epoch 96/100\n",
      "\u001b[1m10/10\u001b[0m \u001b[32m━━━━━━━━━━━━━━━━━━━━\u001b[0m\u001b[37m\u001b[0m \u001b[1m0s\u001b[0m 1ms/step - loss: 0.0507 - mean_squared_error: 0.0507 - val_loss: 0.2352 - val_mean_squared_error: 0.2352\n",
      "Epoch 97/100\n",
      "\u001b[1m10/10\u001b[0m \u001b[32m━━━━━━━━━━━━━━━━━━━━\u001b[0m\u001b[37m\u001b[0m \u001b[1m0s\u001b[0m 1ms/step - loss: 0.0474 - mean_squared_error: 0.0474 - val_loss: 0.2438 - val_mean_squared_error: 0.2438\n",
      "Epoch 98/100\n",
      "\u001b[1m10/10\u001b[0m \u001b[32m━━━━━━━━━━━━━━━━━━━━\u001b[0m\u001b[37m\u001b[0m \u001b[1m0s\u001b[0m 1ms/step - loss: 0.0455 - mean_squared_error: 0.0455 - val_loss: 0.2398 - val_mean_squared_error: 0.2398\n",
      "Epoch 99/100\n",
      "\u001b[1m10/10\u001b[0m \u001b[32m━━━━━━━━━━━━━━━━━━━━\u001b[0m\u001b[37m\u001b[0m \u001b[1m0s\u001b[0m 2ms/step - loss: 0.0659 - mean_squared_error: 0.0659 - val_loss: 0.2442 - val_mean_squared_error: 0.2442\n",
      "Epoch 100/100\n",
      "\u001b[1m10/10\u001b[0m \u001b[32m━━━━━━━━━━━━━━━━━━━━\u001b[0m\u001b[37m\u001b[0m \u001b[1m0s\u001b[0m 1ms/step - loss: 0.0535 - mean_squared_error: 0.0535 - val_loss: 0.2422 - val_mean_squared_error: 0.2422\n"
     ]
    },
    {
     "data": {
      "text/html": [
       "<pre style=\"white-space:pre;overflow-x:auto;line-height:normal;font-family:Menlo,'DejaVu Sans Mono',consolas,'Courier New',monospace\"><span style=\"font-weight: bold\">Model: \"sequential\"</span>\n",
       "</pre>\n"
      ],
      "text/plain": [
       "\u001b[1mModel: \"sequential\"\u001b[0m\n"
      ]
     },
     "metadata": {},
     "output_type": "display_data"
    },
    {
     "data": {
      "text/html": [
       "<pre style=\"white-space:pre;overflow-x:auto;line-height:normal;font-family:Menlo,'DejaVu Sans Mono',consolas,'Courier New',monospace\">┏━━━━━━━━━━━━━━━━━━━━━━━━━━━━━━━━━┳━━━━━━━━━━━━━━━━━━━━━━━━┳━━━━━━━━━━━━━━━┓\n",
       "┃<span style=\"font-weight: bold\"> Layer (type)                    </span>┃<span style=\"font-weight: bold\"> Output Shape           </span>┃<span style=\"font-weight: bold\">       Param # </span>┃\n",
       "┡━━━━━━━━━━━━━━━━━━━━━━━━━━━━━━━━━╇━━━━━━━━━━━━━━━━━━━━━━━━╇━━━━━━━━━━━━━━━┩\n",
       "│ dense_1 (<span style=\"color: #0087ff; text-decoration-color: #0087ff\">Dense</span>)                 │ (<span style=\"color: #00d7ff; text-decoration-color: #00d7ff\">None</span>, <span style=\"color: #00af00; text-decoration-color: #00af00\">64</span>)             │           <span style=\"color: #00af00; text-decoration-color: #00af00\">512</span> │\n",
       "├─────────────────────────────────┼────────────────────────┼───────────────┤\n",
       "│ dense_2 (<span style=\"color: #0087ff; text-decoration-color: #0087ff\">Dense</span>)                 │ (<span style=\"color: #00d7ff; text-decoration-color: #00d7ff\">None</span>, <span style=\"color: #00af00; text-decoration-color: #00af00\">32</span>)             │         <span style=\"color: #00af00; text-decoration-color: #00af00\">2,080</span> │\n",
       "├─────────────────────────────────┼────────────────────────┼───────────────┤\n",
       "│ dense_3 (<span style=\"color: #0087ff; text-decoration-color: #0087ff\">Dense</span>)                 │ (<span style=\"color: #00d7ff; text-decoration-color: #00d7ff\">None</span>, <span style=\"color: #00af00; text-decoration-color: #00af00\">26</span>)             │           <span style=\"color: #00af00; text-decoration-color: #00af00\">858</span> │\n",
       "├─────────────────────────────────┼────────────────────────┼───────────────┤\n",
       "│ dense_4 (<span style=\"color: #0087ff; text-decoration-color: #0087ff\">Dense</span>)                 │ (<span style=\"color: #00d7ff; text-decoration-color: #00d7ff\">None</span>, <span style=\"color: #00af00; text-decoration-color: #00af00\">1</span>)              │            <span style=\"color: #00af00; text-decoration-color: #00af00\">27</span> │\n",
       "└─────────────────────────────────┴────────────────────────┴───────────────┘\n",
       "</pre>\n"
      ],
      "text/plain": [
       "┏━━━━━━━━━━━━━━━━━━━━━━━━━━━━━━━━━┳━━━━━━━━━━━━━━━━━━━━━━━━┳━━━━━━━━━━━━━━━┓\n",
       "┃\u001b[1m \u001b[0m\u001b[1mLayer (type)                   \u001b[0m\u001b[1m \u001b[0m┃\u001b[1m \u001b[0m\u001b[1mOutput Shape          \u001b[0m\u001b[1m \u001b[0m┃\u001b[1m \u001b[0m\u001b[1m      Param #\u001b[0m\u001b[1m \u001b[0m┃\n",
       "┡━━━━━━━━━━━━━━━━━━━━━━━━━━━━━━━━━╇━━━━━━━━━━━━━━━━━━━━━━━━╇━━━━━━━━━━━━━━━┩\n",
       "│ dense_1 (\u001b[38;5;33mDense\u001b[0m)                 │ (\u001b[38;5;45mNone\u001b[0m, \u001b[38;5;34m64\u001b[0m)             │           \u001b[38;5;34m512\u001b[0m │\n",
       "├─────────────────────────────────┼────────────────────────┼───────────────┤\n",
       "│ dense_2 (\u001b[38;5;33mDense\u001b[0m)                 │ (\u001b[38;5;45mNone\u001b[0m, \u001b[38;5;34m32\u001b[0m)             │         \u001b[38;5;34m2,080\u001b[0m │\n",
       "├─────────────────────────────────┼────────────────────────┼───────────────┤\n",
       "│ dense_3 (\u001b[38;5;33mDense\u001b[0m)                 │ (\u001b[38;5;45mNone\u001b[0m, \u001b[38;5;34m26\u001b[0m)             │           \u001b[38;5;34m858\u001b[0m │\n",
       "├─────────────────────────────────┼────────────────────────┼───────────────┤\n",
       "│ dense_4 (\u001b[38;5;33mDense\u001b[0m)                 │ (\u001b[38;5;45mNone\u001b[0m, \u001b[38;5;34m1\u001b[0m)              │            \u001b[38;5;34m27\u001b[0m │\n",
       "└─────────────────────────────────┴────────────────────────┴───────────────┘\n"
      ]
     },
     "metadata": {},
     "output_type": "display_data"
    },
    {
     "data": {
      "text/html": [
       "<pre style=\"white-space:pre;overflow-x:auto;line-height:normal;font-family:Menlo,'DejaVu Sans Mono',consolas,'Courier New',monospace\"><span style=\"font-weight: bold\"> Total params: </span><span style=\"color: #00af00; text-decoration-color: #00af00\">10,433</span> (40.76 KB)\n",
       "</pre>\n"
      ],
      "text/plain": [
       "\u001b[1m Total params: \u001b[0m\u001b[38;5;34m10,433\u001b[0m (40.76 KB)\n"
      ]
     },
     "metadata": {},
     "output_type": "display_data"
    },
    {
     "data": {
      "text/html": [
       "<pre style=\"white-space:pre;overflow-x:auto;line-height:normal;font-family:Menlo,'DejaVu Sans Mono',consolas,'Courier New',monospace\"><span style=\"font-weight: bold\"> Trainable params: </span><span style=\"color: #00af00; text-decoration-color: #00af00\">3,477</span> (13.58 KB)\n",
       "</pre>\n"
      ],
      "text/plain": [
       "\u001b[1m Trainable params: \u001b[0m\u001b[38;5;34m3,477\u001b[0m (13.58 KB)\n"
      ]
     },
     "metadata": {},
     "output_type": "display_data"
    },
    {
     "data": {
      "text/html": [
       "<pre style=\"white-space:pre;overflow-x:auto;line-height:normal;font-family:Menlo,'DejaVu Sans Mono',consolas,'Courier New',monospace\"><span style=\"font-weight: bold\"> Non-trainable params: </span><span style=\"color: #00af00; text-decoration-color: #00af00\">0</span> (0.00 B)\n",
       "</pre>\n"
      ],
      "text/plain": [
       "\u001b[1m Non-trainable params: \u001b[0m\u001b[38;5;34m0\u001b[0m (0.00 B)\n"
      ]
     },
     "metadata": {},
     "output_type": "display_data"
    },
    {
     "data": {
      "text/html": [
       "<pre style=\"white-space:pre;overflow-x:auto;line-height:normal;font-family:Menlo,'DejaVu Sans Mono',consolas,'Courier New',monospace\"><span style=\"font-weight: bold\"> Optimizer params: </span><span style=\"color: #00af00; text-decoration-color: #00af00\">6,956</span> (27.18 KB)\n",
       "</pre>\n"
      ],
      "text/plain": [
       "\u001b[1m Optimizer params: \u001b[0m\u001b[38;5;34m6,956\u001b[0m (27.18 KB)\n"
      ]
     },
     "metadata": {},
     "output_type": "display_data"
    }
   ],
   "source": [
    "my_model = make_model(features_train_scaled, labels_train_scaled)\n",
    "my_model.summary()"
   ]
  },
  {
   "cell_type": "code",
   "execution_count": 21,
   "metadata": {},
   "outputs": [
    {
     "name": "stdout",
     "output_type": "stream",
     "text": [
      "\u001b[1m4/4\u001b[0m \u001b[32m━━━━━━━━━━━━━━━━━━━━\u001b[0m\u001b[37m\u001b[0m \u001b[1m0s\u001b[0m 5ms/step \n"
     ]
    }
   ],
   "source": [
    "predictions = my_model.predict(features_test_scaled)\n",
    "mse = mean_squared_error(labels_test_scaled, predictions)\n",
    "\n",
    "r2 = r2_score(labels_test_scaled, predictions)"
   ]
  },
  {
   "cell_type": "code",
   "execution_count": 22,
   "metadata": {},
   "outputs": [
    {
     "name": "stdout",
     "output_type": "stream",
     "text": [
      "0.24336471673000826\n",
      "0.7654556848762947\n"
     ]
    }
   ],
   "source": [
    "print(mse)\n",
    "print(r2)"
   ]
  },
  {
   "cell_type": "code",
   "execution_count": 28,
   "metadata": {},
   "outputs": [
    {
     "data": {
      "image/png": "[encoded data removed]",
      "text/plain": [
       "<Figure size 800x600 with 1 Axes>"
      ]
     },
     "metadata": {},
     "output_type": "display_data"
    }
   ],
   "source": [
    "plt.figure(figsize=(8,6))\n",
    "plt.scatter(labels_test_scaled, predictions, alpha=0.7)\n",
    "plt.plot([0,1], [0,1], color='red', linestyle='--')\n",
    "plt.xlabel(\"Actual Chance of Admit\")\n",
    "plt.ylabel(\"Predicted Chance of Admit\")\n",
    "plt.title(\"Actual vs Predicted Chance of Admit\")\n",
    "plt.show()"
   ]
  }
 ],
 "metadata": {
  "kernelspec": {
   "display_name": "venv",
   "language": "python",
   "name": "python3"
  },
  "language_info": {
   "codemirror_mode": {
    "name": "ipython",
    "version": 3
   },
   "file_extension": ".py",
   "mimetype": "text/x-python",
   "name": "python",
   "nbconvert_exporter": "python",
   "pygments_lexer": "ipython3",
   "version": "3.12.4"
  }
 },
 "nbformat": 4,
 "nbformat_minor": 2
}
