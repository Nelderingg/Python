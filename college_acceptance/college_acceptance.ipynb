{
 "cells": [
  {
   "cell_type": "code",
   "execution_count": null,
   "metadata": {},
   "outputs": [],
   "source": [
    "import tensorflow as tf\n",
    "from tensorflow\timport keras\n",
    "from tensorflow.keras.callbacks import EarlyStopping\n",
    "from tensorflow.keras import layers\n",
    "from tensorflow.keras.models import Sequential\n",
    "from tensorflow.keras.layers import Dense\n",
    "from tensorflow.keras.layers import Input\n",
    "from sklearn.metrics import mean_squared_error\n",
    "from tensorflow.keras.optimizers import Adam\n",
    "\n",
    "from sklearn.model_selection import train_test_split\n",
    "from sklearn.preprocessing import StandardScaler\n",
    "from sklearn.preprocessing import Normalizer\n",
    "from sklearn.metrics import r2_score \n",
    "\n",
    "import pandas as pd"
   ]
  },
  {
   "cell_type": "code",
   "execution_count": null,
   "metadata": {},
   "outputs": [],
   "source": [
    "df = pd.read_csv('admissions_data.csv')\n",
    "df.columns = df.columns.str.strip()\n",
    "features = df\n",
    "features = features.drop('Serial No.', axis=1)\n",
    "features = features.drop('Chance of Admit', axis=1)\n",
    "print(features)"
   ]
  },
  {
   "cell_type": "code",
   "execution_count": null,
   "metadata": {},
   "outputs": [],
   "source": [
    "lables = df['Chance of Admit']\n",
    "print(lables)"
   ]
  },
  {
   "cell_type": "code",
   "execution_count": null,
   "metadata": {},
   "outputs": [],
   "source": [
    "#break features and lables into train and test sets\n",
    "features_train, features_test, lables_train, lables_test = train_test_split(features, lables, test_size=0.2, random_state=42)\n",
    "print(f\"features_train \\n {features_train}\")\n",
    "print(f\"features_test \\n {features_test}\")\n",
    "print(f\"lables_test \\n {lables_test}\")\n",
    "print(f\"lables_train \\n {lables_train}\")"
   ]
  },
  {
   "cell_type": "code",
   "execution_count": null,
   "metadata": {},
   "outputs": [],
   "source": [
    "#scale data so they follow the same range\n",
    "features_scaler = StandardScaler()\n",
    "features_train_scaled = features_scaler.fit_transform(features_train)\n",
    "features_test_scaled = features_scaler.transform(features_test)\n",
    "lables_scaler = StandardScaler()\n",
    "lables_train_scaled = lables_scaler.fit_transform(lables_train.values.reshape(-1,1)).flatten()\n",
    "lables_test_scaled = lables_scaler.transform(lables_test.values.reshape(-1,1)).flatten()"
   ]
  },
  {
   "cell_type": "code",
   "execution_count": null,
   "metadata": {},
   "outputs": [],
   "source": [
    "def make_model(feat_train, labels_train):\n",
    "    model = Sequential\n",
    "\n",
    "    \n",
    "\n",
    "    model.fit(features_train_scaled, lables_train_scaled)\n",
    "\n",
    "    return model "
   ]
  },
  {
   "cell_type": "code",
   "execution_count": null,
   "metadata": {},
   "outputs": [],
   "source": [
    "my_model = Sequential()\n",
    "\n",
    "my_model.add(keras.Input(shape=(16,)))\n",
    "my_model.add(Dense(8, activation='relu'))\n",
    "my_model.add(Dense(6))\n",
    "\n",
    "\n",
    "\n",
    "my_model.summary()"
   ]
  }
 ],
 "metadata": {
  "language_info": {
   "name": "python"
  }
 },
 "nbformat": 4,
 "nbformat_minor": 2
}
