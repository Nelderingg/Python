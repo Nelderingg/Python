import pandas as pd
import numpy as np
import tensorflow as tf

df = pd.read_csv('cover_data.csv')
df.head()
