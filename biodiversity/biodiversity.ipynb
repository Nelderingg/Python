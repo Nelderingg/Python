{
 "cells": [
  {
   "cell_type": "code",
   "execution_count": null,
   "metadata": {},
   "outputs": [],
   "source": [
    "import pandas as pd \n",
    "observations = pd.read_csv('observations.csv')\n",
    "observations_subset = observations.head(50)\n",
    "observations_subset.head()"
   ]
  },
  {
   "cell_type": "code",
   "execution_count": null,
   "metadata": {},
   "outputs": [],
   "source": [
    "species = pd.read_csv('species_info.csv')\n",
    "species_subset = species.head(50)\n",
    "species_subset.head()"
   ]
  },
  {
   "cell_type": "code",
   "execution_count": null,
   "metadata": {},
   "outputs": [],
   "source": [
    "import matplotlib.pyplot as plt\n",
    "plt.plot(observations_subset['scientific_name'], observations_subset['observations'])\n",
    "plt.xlabel('X label')\n",
    "plt.ylabel(\"Y label\")\n",
    "plt.title('observations by species')\n",
    "plt.grid(True)\n",
    "plt.xticks(rotation=90)\n",
    "plt.show()"
   ]
  },
  {
   "cell_type": "code",
   "execution_count": null,
   "metadata": {},
   "outputs": [],
   "source": [
    "import matplotlib.pyplot as plt\n",
    "names = observations_subset['scientific_name']\n",
    "appearences = observations_subset['observations']\n",
    "plt.bar(names,appearences,color='red')\n",
    "plt.xlabel('scientific name')\n",
    "plt.ylabel('observations')\n",
    "plt.xticks(rotation=90)\n",
    "plt.show()"
   ]
  },
  {
   "cell_type": "code",
   "execution_count": null,
   "metadata": {},
   "outputs": [],
   "source": [
    "import matplotlib.pyplot as plt\n",
    "species = observations_subset['park_name']\n",
    "my_dict = {}\n",
    "for x in species:\n",
    "    if x in my_dict:\n",
    "        my_dict[x] += 1\n",
    "    else:\n",
    "        my_dict[x] = 1\n",
    "species_list = list(my_dict.keys())\n",
    "occurences = list(my_dict.values())\n",
    "print(my_dict)\n",
    "plt.pie(occurences, labels=species_list,)\n",
    "plt.show()"
   ]
  },
  {
   "cell_type": "code",
   "execution_count": null,
   "metadata": {},
   "outputs": [],
   "source": []
  }
 ],
 "metadata": {
  "language_info": {
   "name": "python"
  }
 },
 "nbformat": 4,
 "nbformat_minor": 2
}
